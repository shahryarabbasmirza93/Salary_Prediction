{
 "cells": [
  {
   "cell_type": "code",
   "execution_count": 2,
   "metadata": {},
   "outputs": [
    {
     "name": "stdout",
     "output_type": "stream",
     "text": [
      "tag=JobAds, attrib={}\n",
      "-------------------------\n",
      "Iterating using getchildren()\n",
      "-------------------------\n"
     ]
    },
    {
     "data": {
      "text/html": [
       "<div>\n",
       "<style scoped>\n",
       "    .dataframe tbody tr th:only-of-type {\n",
       "        vertical-align: middle;\n",
       "    }\n",
       "\n",
       "    .dataframe tbody tr th {\n",
       "        vertical-align: top;\n",
       "    }\n",
       "\n",
       "    .dataframe thead th {\n",
       "        text-align: right;\n",
       "    }\n",
       "</style>\n",
       "<table border=\"1\" class=\"dataframe\">\n",
       "  <thead>\n",
       "    <tr style=\"text-align: right;\">\n",
       "      <th></th>\n",
       "      <th>id</th>\n",
       "      <th>company</th>\n",
       "      <th>Title</th>\n",
       "      <th>FullDescription</th>\n",
       "      <th>Location</th>\n",
       "      <th>ContractTime</th>\n",
       "      <th>ContractType</th>\n",
       "      <th>Category</th>\n",
       "      <th>OpenDate</th>\n",
       "      <th>Salary</th>\n",
       "      <th>CloseDate</th>\n",
       "      <th>SourceName</th>\n",
       "    </tr>\n",
       "  </thead>\n",
       "  <tbody>\n",
       "    <tr>\n",
       "      <td>0</td>\n",
       "      <td>54900518</td>\n",
       "      <td>Engage Education</td>\n",
       "      <td>Primary Teachers Norfolk / Suffolk</td>\n",
       "      <td>Engage Education is a rapidly expanding teachi...</td>\n",
       "      <td>Norfolk</td>\n",
       "      <td>contract</td>\n",
       "      <td>part_time</td>\n",
       "      <td>Teaching Jobs</td>\n",
       "      <td>20121008T000000</td>\n",
       "      <td>30000</td>\n",
       "      <td>20121207T000000</td>\n",
       "      <td>NaN</td>\n",
       "    </tr>\n",
       "    <tr>\n",
       "      <td>1</td>\n",
       "      <td>66178897</td>\n",
       "      <td>Neville Gee</td>\n",
       "      <td>Contact Centre Agent</td>\n",
       "      <td>Job Purpose: To generate leads, sales revenue ...</td>\n",
       "      <td>Lancashire</td>\n",
       "      <td>permanent</td>\n",
       "      <td>part_time</td>\n",
       "      <td>Sales Jobs</td>\n",
       "      <td>20120912T150000</td>\n",
       "      <td>13440</td>\n",
       "      <td>20121211T150000</td>\n",
       "      <td>NaN</td>\n",
       "    </tr>\n",
       "    <tr>\n",
       "      <td>2</td>\n",
       "      <td>66886053</td>\n",
       "      <td>Quattro Recruitment Ltd</td>\n",
       "      <td>Tele  Fundraising agents</td>\n",
       "      <td>Our client is currently seeking Telesales Fund...</td>\n",
       "      <td>Norwich</td>\n",
       "      <td>permanent</td>\n",
       "      <td>part_time</td>\n",
       "      <td>Sales Jobs</td>\n",
       "      <td>20120422T120000</td>\n",
       "      <td>12240</td>\n",
       "      <td>20120721T120000</td>\n",
       "      <td>NaN</td>\n",
       "    </tr>\n",
       "    <tr>\n",
       "      <td>3</td>\n",
       "      <td>67643933</td>\n",
       "      <td>Solutions2Recruitment</td>\n",
       "      <td>PA To Headmistress</td>\n",
       "      <td>PA  Educational Environment (39 weeks per annu...</td>\n",
       "      <td>Brighton</td>\n",
       "      <td>permanent</td>\n",
       "      <td>part_time</td>\n",
       "      <td>Teaching Jobs</td>\n",
       "      <td>20121224T150000</td>\n",
       "      <td>19500</td>\n",
       "      <td>20130123T150000</td>\n",
       "      <td>NaN</td>\n",
       "    </tr>\n",
       "    <tr>\n",
       "      <td>4</td>\n",
       "      <td>69004280</td>\n",
       "      <td>We Are Recruitment</td>\n",
       "      <td>Experienced Teaching Assistant</td>\n",
       "      <td>Are you an experienced Teaching Assistant with...</td>\n",
       "      <td>London</td>\n",
       "      <td>contract</td>\n",
       "      <td>part_time</td>\n",
       "      <td>Teaching Jobs</td>\n",
       "      <td>20120531T120000</td>\n",
       "      <td>19200</td>\n",
       "      <td>20120614T120000</td>\n",
       "      <td>NaN</td>\n",
       "    </tr>\n",
       "    <tr>\n",
       "      <td>...</td>\n",
       "      <td>...</td>\n",
       "      <td>...</td>\n",
       "      <td>...</td>\n",
       "      <td>...</td>\n",
       "      <td>...</td>\n",
       "      <td>...</td>\n",
       "      <td>...</td>\n",
       "      <td>...</td>\n",
       "      <td>...</td>\n",
       "      <td>...</td>\n",
       "      <td>...</td>\n",
       "      <td>...</td>\n",
       "    </tr>\n",
       "    <tr>\n",
       "      <td>29863</td>\n",
       "      <td>72342209</td>\n",
       "      <td>Finegreen Associates</td>\n",
       "      <td>Head of Childrens Service</td>\n",
       "      <td>My client is an independent day and residentia...</td>\n",
       "      <td>North West London</td>\n",
       "      <td>permanent</td>\n",
       "      <td>NaN</td>\n",
       "      <td>Healthcare &amp; Nursing Jobs</td>\n",
       "      <td>20130810T150000</td>\n",
       "      <td>45000</td>\n",
       "      <td>20131108T150000</td>\n",
       "      <td>NaN</td>\n",
       "    </tr>\n",
       "    <tr>\n",
       "      <td>29864</td>\n",
       "      <td>72342216</td>\n",
       "      <td>Family Nursing and Home Care</td>\n",
       "      <td>Divisional Manager for Clinical Services</td>\n",
       "      <td>Family Nursing and Home Care is a registered c...</td>\n",
       "      <td>Jersey</td>\n",
       "      <td>permanent</td>\n",
       "      <td>NaN</td>\n",
       "      <td>Healthcare &amp; Nursing Jobs</td>\n",
       "      <td>20121105T120000</td>\n",
       "      <td>55943</td>\n",
       "      <td>20130104T120000</td>\n",
       "      <td>NaN</td>\n",
       "    </tr>\n",
       "    <tr>\n",
       "      <td>29865</td>\n",
       "      <td>72342223</td>\n",
       "      <td>Finegreen Associates</td>\n",
       "      <td>Interim Employment Relations Adviser</td>\n",
       "      <td>Our client, a local government organisation in...</td>\n",
       "      <td>London</td>\n",
       "      <td>contract</td>\n",
       "      <td>NaN</td>\n",
       "      <td>Healthcare &amp; Nursing Jobs</td>\n",
       "      <td>20120806T150000</td>\n",
       "      <td>39840</td>\n",
       "      <td>20120820T150000</td>\n",
       "      <td>NaN</td>\n",
       "    </tr>\n",
       "    <tr>\n",
       "      <td>29866</td>\n",
       "      <td>72342224</td>\n",
       "      <td>University Hospitals Southampton NHS Foundatio...</td>\n",
       "      <td>Care Group Manager – Emergency Care</td>\n",
       "      <td>The Emergency Medicine Care Group provides ser...</td>\n",
       "      <td>Southampton</td>\n",
       "      <td>permanent</td>\n",
       "      <td>NaN</td>\n",
       "      <td>Healthcare &amp; Nursing Jobs</td>\n",
       "      <td>20120607T120000</td>\n",
       "      <td>NaN</td>\n",
       "      <td>20120905T120000</td>\n",
       "      <td>NaN</td>\n",
       "    </tr>\n",
       "    <tr>\n",
       "      <td>29867</td>\n",
       "      <td>72342226</td>\n",
       "      <td>Morgan Law</td>\n",
       "      <td>Public Health Programme Manager</td>\n",
       "      <td>This exciting new role provides a great opport...</td>\n",
       "      <td>London</td>\n",
       "      <td>permanent</td>\n",
       "      <td>NaN</td>\n",
       "      <td>Healthcare &amp; Nursing Jobs</td>\n",
       "      <td>20120310T150000</td>\n",
       "      <td>45000</td>\n",
       "      <td>20120608T150000</td>\n",
       "      <td>NaN</td>\n",
       "    </tr>\n",
       "  </tbody>\n",
       "</table>\n",
       "<p>29868 rows × 12 columns</p>\n",
       "</div>"
      ],
      "text/plain": [
       "             id                                            company  \\\n",
       "0      54900518                                   Engage Education   \n",
       "1      66178897                                        Neville Gee   \n",
       "2      66886053                            Quattro Recruitment Ltd   \n",
       "3      67643933                              Solutions2Recruitment   \n",
       "4      69004280                                 We Are Recruitment   \n",
       "...         ...                                                ...   \n",
       "29863  72342209                               Finegreen Associates   \n",
       "29864  72342216                       Family Nursing and Home Care   \n",
       "29865  72342223                               Finegreen Associates   \n",
       "29866  72342224  University Hospitals Southampton NHS Foundatio...   \n",
       "29867  72342226                                         Morgan Law   \n",
       "\n",
       "                                          Title  \\\n",
       "0            Primary Teachers Norfolk / Suffolk   \n",
       "1                          Contact Centre Agent   \n",
       "2                      Tele  Fundraising agents   \n",
       "3                            PA To Headmistress   \n",
       "4                Experienced Teaching Assistant   \n",
       "...                                         ...   \n",
       "29863                 Head of Childrens Service   \n",
       "29864  Divisional Manager for Clinical Services   \n",
       "29865      Interim Employment Relations Adviser   \n",
       "29866       Care Group Manager – Emergency Care   \n",
       "29867           Public Health Programme Manager   \n",
       "\n",
       "                                         FullDescription           Location  \\\n",
       "0      Engage Education is a rapidly expanding teachi...            Norfolk   \n",
       "1      Job Purpose: To generate leads, sales revenue ...         Lancashire   \n",
       "2      Our client is currently seeking Telesales Fund...            Norwich   \n",
       "3      PA  Educational Environment (39 weeks per annu...           Brighton   \n",
       "4      Are you an experienced Teaching Assistant with...             London   \n",
       "...                                                  ...                ...   \n",
       "29863  My client is an independent day and residentia...  North West London   \n",
       "29864  Family Nursing and Home Care is a registered c...             Jersey   \n",
       "29865  Our client, a local government organisation in...             London   \n",
       "29866  The Emergency Medicine Care Group provides ser...        Southampton   \n",
       "29867  This exciting new role provides a great opport...             London   \n",
       "\n",
       "      ContractTime ContractType                   Category         OpenDate  \\\n",
       "0         contract    part_time              Teaching Jobs  20121008T000000   \n",
       "1        permanent    part_time                 Sales Jobs  20120912T150000   \n",
       "2        permanent    part_time                 Sales Jobs  20120422T120000   \n",
       "3        permanent    part_time              Teaching Jobs  20121224T150000   \n",
       "4         contract    part_time              Teaching Jobs  20120531T120000   \n",
       "...            ...          ...                        ...              ...   \n",
       "29863    permanent          NaN  Healthcare & Nursing Jobs  20130810T150000   \n",
       "29864    permanent          NaN  Healthcare & Nursing Jobs  20121105T120000   \n",
       "29865     contract          NaN  Healthcare & Nursing Jobs  20120806T150000   \n",
       "29866    permanent          NaN  Healthcare & Nursing Jobs  20120607T120000   \n",
       "29867    permanent          NaN  Healthcare & Nursing Jobs  20120310T150000   \n",
       "\n",
       "      Salary        CloseDate  SourceName  \n",
       "0      30000  20121207T000000         NaN  \n",
       "1      13440  20121211T150000         NaN  \n",
       "2      12240  20120721T120000         NaN  \n",
       "3      19500  20130123T150000         NaN  \n",
       "4      19200  20120614T120000         NaN  \n",
       "...      ...              ...         ...  \n",
       "29863  45000  20131108T150000         NaN  \n",
       "29864  55943  20130104T120000         NaN  \n",
       "29865  39840  20120820T150000         NaN  \n",
       "29866    NaN  20120905T120000         NaN  \n",
       "29867  45000  20120608T150000         NaN  \n",
       "\n",
       "[29868 rows x 12 columns]"
      ]
     },
     "execution_count": 2,
     "metadata": {},
     "output_type": "execute_result"
    }
   ],
   "source": [
    "import pandas as pd\n",
    "import xml.etree.cElementTree as ET\n",
    "import re\n",
    "import numpy as np\n",
    "import matplotlib.pyplot as plt\n",
    "import seaborn as sns\n",
    "from sklearn.model_selection import train_test_split\n",
    "from sklearn.neighbors import KNeighborsClassifier\n",
    "from sklearn.model_selection import GridSearchCV\n",
    "from sklearn.linear_model import LogisticRegression\n",
    "from sklearn.ensemble import RandomForestClassifier\n",
    "\n",
    "\n",
    "def parseXML(New_Text_Document):\n",
    "   # Parse XML with ElementTree\n",
    "   tree = ET.parse(New_Text_Document)\n",
    "#    print(tree.getroot())\n",
    "   root = tree.getroot()\n",
    "   \n",
    "   print(\"tag=%s, attrib=%s\" % (root.tag, root.attrib))\n",
    "\n",
    "   # get the information via the children!\n",
    "   print(\"-\" * 25)\n",
    "   print(\"Iterating using getchildren()\")\n",
    "   print(\"-\" * 25)\n",
    "   rows = []\n",
    "   df_cols = [\"id\", \"company\",\"Title\",\"FullDescription\",\"Location\",\"ContractTime\",\"ContractType\",\"Category\",\"OpenDate\",\"Salary\",\"CloseDate\",\"SourceName\"]\n",
    "#    jobs = root.getchildren()\n",
    "   for node in root.iter():\n",
    "          if node.tag==\"Job\":\n",
    "#                 print(node.find(\"Id\").text)                \n",
    "#                 print(node.find(\"Company\").text)\n",
    "                try:\n",
    "                    rows.append({\"id\": node.find(\"Id\").text,\"ContractType\": node.find(\"ContractType\").text, \"company\": node.find(\"Company\").text,\"Title\": node.find(\"Title\").text,\"FullDescription\": node.find(\"FullDescription\").text,\"Location\": node.find(\"Location\").text,\"ContractTime\": node.find(\"ContractTime\").text,\"Category\": node.find(\"Category\").text,\"Salary\": node.find(\"Salary\").text,\"OpenDate\": node.find(\"OpenDate\").text,\"CloseDate\": node.find(\"CloseDate\").text})\n",
    "                except:\n",
    "#                     print(node.find(\"Id\"))\n",
    "                      pass\n",
    "#           user_children = job.getchildren()\n",
    "#           for user_child in user_children:\n",
    "#              print(\"%s=%s\" % (user_child.tag, user_child.text))\n",
    "   out_df = pd.DataFrame(rows, columns = df_cols)\n",
    "    \n",
    "   out_df.to_csv(\"test.csv\", index=False)\n",
    "  \n",
    "\n",
    "if __name__ == \"__main__\":\n",
    "   parseXML(\"data_ass2.dat\")\n",
    "\n",
    "data=pd.read_csv('test.csv')\n",
    "   \n",
    "data"
   ]
  },
  {
   "cell_type": "markdown",
   "metadata": {},
   "source": [
    "# Remove Duplicate Rows "
   ]
  },
  {
   "cell_type": "code",
   "execution_count": 3,
   "metadata": {},
   "outputs": [
    {
     "data": {
      "text/plain": [
       "(29867, 12)"
      ]
     },
     "execution_count": 3,
     "metadata": {},
     "output_type": "execute_result"
    }
   ],
   "source": [
    "data.drop_duplicates(subset =['company', 'Title', 'FullDescription', 'Location', 'ContractTime', 'Category', 'OpenDate','CloseDate','Salary'], \n",
    "                   inplace=True)\n",
    "                   \n",
    "data.shape"
   ]
  },
  {
   "cell_type": "code",
   "execution_count": 4,
   "metadata": {},
   "outputs": [
    {
     "data": {
      "text/html": [
       "<div>\n",
       "<style scoped>\n",
       "    .dataframe tbody tr th:only-of-type {\n",
       "        vertical-align: middle;\n",
       "    }\n",
       "\n",
       "    .dataframe tbody tr th {\n",
       "        vertical-align: top;\n",
       "    }\n",
       "\n",
       "    .dataframe thead th {\n",
       "        text-align: right;\n",
       "    }\n",
       "</style>\n",
       "<table border=\"1\" class=\"dataframe\">\n",
       "  <thead>\n",
       "    <tr style=\"text-align: right;\">\n",
       "      <th></th>\n",
       "      <th>Location</th>\n",
       "      <th>Title</th>\n",
       "      <th>ContractTime</th>\n",
       "      <th>Category</th>\n",
       "      <th>Salary</th>\n",
       "    </tr>\n",
       "  </thead>\n",
       "  <tbody>\n",
       "    <tr>\n",
       "      <td>0</td>\n",
       "      <td>Norfolk</td>\n",
       "      <td>Primary Teachers Norfolk / Suffolk</td>\n",
       "      <td>contract</td>\n",
       "      <td>Teaching Jobs</td>\n",
       "      <td>30000</td>\n",
       "    </tr>\n",
       "    <tr>\n",
       "      <td>1</td>\n",
       "      <td>Lancashire</td>\n",
       "      <td>Contact Centre Agent</td>\n",
       "      <td>permanent</td>\n",
       "      <td>Sales Jobs</td>\n",
       "      <td>13440</td>\n",
       "    </tr>\n",
       "    <tr>\n",
       "      <td>2</td>\n",
       "      <td>Norwich</td>\n",
       "      <td>Tele  Fundraising agents</td>\n",
       "      <td>permanent</td>\n",
       "      <td>Sales Jobs</td>\n",
       "      <td>12240</td>\n",
       "    </tr>\n",
       "    <tr>\n",
       "      <td>3</td>\n",
       "      <td>Brighton</td>\n",
       "      <td>PA To Headmistress</td>\n",
       "      <td>permanent</td>\n",
       "      <td>Teaching Jobs</td>\n",
       "      <td>19500</td>\n",
       "    </tr>\n",
       "    <tr>\n",
       "      <td>4</td>\n",
       "      <td>London</td>\n",
       "      <td>Experienced Teaching Assistant</td>\n",
       "      <td>contract</td>\n",
       "      <td>Teaching Jobs</td>\n",
       "      <td>19200</td>\n",
       "    </tr>\n",
       "  </tbody>\n",
       "</table>\n",
       "</div>"
      ],
      "text/plain": [
       "     Location                               Title ContractTime       Category  \\\n",
       "0     Norfolk  Primary Teachers Norfolk / Suffolk     contract  Teaching Jobs   \n",
       "1  Lancashire                Contact Centre Agent    permanent     Sales Jobs   \n",
       "2     Norwich            Tele  Fundraising agents    permanent     Sales Jobs   \n",
       "3    Brighton                  PA To Headmistress    permanent  Teaching Jobs   \n",
       "4      London      Experienced Teaching Assistant     contract  Teaching Jobs   \n",
       "\n",
       "  Salary  \n",
       "0  30000  \n",
       "1  13440  \n",
       "2  12240  \n",
       "3  19500  \n",
       "4  19200  "
      ]
     },
     "execution_count": 4,
     "metadata": {},
     "output_type": "execute_result"
    }
   ],
   "source": [
    "Cdata = pd.read_csv('test.csv')[['Location', 'Title', 'ContractTime', 'Category', 'Salary']]\n",
    "\n",
    "Cdata.head()"
   ]
  },
  {
   "cell_type": "markdown",
   "metadata": {},
   "source": [
    "# Cleaning ' Title Column'"
   ]
  },
  {
   "cell_type": "code",
   "execution_count": 5,
   "metadata": {},
   "outputs": [
    {
     "name": "stdout",
     "output_type": "stream",
     "text": [
      "Location 477\n",
      "Title 29865\n",
      "ContractTime 4\n",
      "Category 8\n",
      "Salary 2063\n"
     ]
    }
   ],
   "source": [
    "for column in ['Location', 'Title', 'ContractTime', 'Category', 'Salary']:\n",
    "    print(column, Cdata[column].nunique())"
   ]
  },
  {
   "cell_type": "markdown",
   "metadata": {},
   "source": [
    "As there are way more too may titles for the job, i want to reduce the number. As the single job title can be relevent to other job titles."
   ]
  },
  {
   "cell_type": "code",
   "execution_count": 6,
   "metadata": {},
   "outputs": [],
   "source": [
    "#first i will remove the white space and will capitalizing the words in a title.\n",
    "def clean_job_title(title):\n",
    "    if title[-1] == \" \":\n",
    "        return title[:-1].title()\n",
    "    else:\n",
    "        return title.title()"
   ]
  },
  {
   "cell_type": "code",
   "execution_count": 7,
   "metadata": {},
   "outputs": [],
   "source": [
    "Cdata['Title'] = Cdata['Title'].apply(clean_job_title)"
   ]
  },
  {
   "cell_type": "code",
   "execution_count": 8,
   "metadata": {},
   "outputs": [
    {
     "data": {
      "text/plain": [
       "1817"
      ]
     },
     "execution_count": 8,
     "metadata": {},
     "output_type": "execute_result"
    }
   ],
   "source": [
    "# i will focus on job titles which have words ' Analyst' or 'Data' \n",
    "relevant_jobs = []\n",
    "irrelevant_jobs = []\n",
    "for title in list(Cdata['Title'].value_counts().index):\n",
    "    if ' Analyst' in title:\n",
    "        relevant_jobs.append(title)\n",
    "    elif 'Data' == title:\n",
    "        relevant_jobs.append(title)\n",
    "    else:\n",
    "        irrelevant_jobs.append(title)\n",
    "len(relevant_jobs)"
   ]
  },
  {
   "cell_type": "code",
   "execution_count": 9,
   "metadata": {},
   "outputs": [],
   "source": [
    "Cdata = Cdata[Cdata['Title'].isin(relevant_jobs)]"
   ]
  },
  {
   "cell_type": "code",
   "execution_count": 10,
   "metadata": {},
   "outputs": [],
   "source": [
    "#Now i will try to categorize the titles which are similar \n",
    "\n",
    "#  words' Analyst' or 'Analytics' in the title will be classified as 'Data Analyst' \n",
    "analyst_jobs = []\n",
    "for title in relevant_jobs:\n",
    "    if 'Analyst' in title:\n",
    "        analyst_jobs.append(title)\n",
    "    elif 'Analytics' in title:\n",
    "        analyst_jobs.append(title)\n",
    "        \n",
    "# Words 'Administration', 'Administrator', 'Admin' or 'Entry'  in title will be classified as 'Data Administrator' \n",
    "administration_jobs = []\n",
    "for title in relevant_jobs:\n",
    "    if 'Administration' in title:\n",
    "        administration_jobs.append(title)\n",
    "    elif 'Administrator' in title:\n",
    "        administration_jobs.append(title)\n",
    "    elif 'Admin' in title:\n",
    "        administration_jobs.append(title)\n",
    "    elif 'Entry' in title:\n",
    "        administration_jobs.append(title)\n",
    "# Word 'Architect' in title is treated as  'Data Architect'\n",
    "architect_jobs = []\n",
    "for title in relevant_jobs:\n",
    "    if 'Architect' in title:\n",
    "        architect_jobs.append(title)\n",
    "# Words 'Development' or 'Developer' in the title will be classified as 'Developer with Data'\n",
    "development_jobs = []\n",
    "for title in relevant_jobs:\n",
    "    if 'Development' in title:\n",
    "        development_jobs.append(title)\n",
    "    elif 'Developer' in title:\n",
    "        development_jobs.append(title)\n",
    "# Words'Model' or 'Modelling' in the title will be classified as 'Data Modelling Job'\n",
    "modelling_jobs = []\n",
    "for title in relevant_jobs:\n",
    "    if 'Model' in title:\n",
    "        modelling_jobs.append(title)\n",
    "    elif 'Modelling' in title:\n",
    "        modelling_jobs.append(title)\n",
    "#Words 'Analyst' and 'Senior' in the title will be classified as 'Senior Data Analyst'\n",
    "senior_analyst_jobs = []\n",
    "for title in relevant_jobs:\n",
    "    if ('Analyst' in title) & ('Senior' in title):\n",
    "        senior_analyst_jobs.append(title)\n",
    "        \n",
    "#Words'Analyst' and 'Junior' in title will be classified as 'Senior Data Analyst'\n",
    "junior_analyst_jobs = []\n",
    "for title in relevant_jobs:\n",
    "    if ('Analyst' in title) & ('Junior' in title):\n",
    "        junior_analyst_jobs.append(title)\n",
    "\n",
    "# Word 'Migration' in title will be classified as 'Data Migration Job' \n",
    "migration_jobs = []\n",
    "for title in relevant_jobs:\n",
    "    if 'Migration' in title:\n",
    "        migration_jobs.append(title)\n",
    "#Word 'Consultant' in the title will be classified as 'Consultant with Data' \n",
    "consultant_jobs = []\n",
    "for title in relevant_jobs:\n",
    "    if 'Consultant' in title:\n",
    "        consultant_jobs.append(title)\n",
    "#Words 'Manager' or 'Management'in the title will be classified as 'Manager with Data' \n",
    "manager_jobs = []\n",
    "for title in relevant_jobs:\n",
    "    if 'Manager' in title:\n",
    "        manager_jobs.append(title)\n",
    "    if 'Management' in title:\n",
    "        manager_jobs.append(title)\n",
    "#Words 'Scientist' or 'Science' in the title will be classified as 'Data Scientist' \n",
    "scientist_jobs = []\n",
    "for title in relevant_jobs:\n",
    "    if 'Scientist' in title:\n",
    "        scientist_jobs.append(title)\n",
    "    elif 'Science' in title:\n",
    "        scientist_jobs.append(title)\n",
    "#Word 'Engineer' in the title will be classified as 'Data Engineer'       \n",
    "engineer_jobs = []\n",
    "for title in relevant_jobs:\n",
    "    if 'Engineer' in title:\n",
    "        engineer_jobs.append(title)"
   ]
  },
  {
   "cell_type": "code",
   "execution_count": 11,
   "metadata": {},
   "outputs": [],
   "source": [
    "# Each job title is classified according to the names assigned above \n",
    "Classified_Job_Titles = []\n",
    "for job in list(Cdata['Title']):    \n",
    "        if job in administration_jobs:\n",
    "            Classified_Job_Titles.append('Data Administrator')\n",
    "        elif job in modelling_jobs:\n",
    "            Classified_Job_Titles.append('Data Modelling Job')              \n",
    "        elif job in architect_jobs:\n",
    "            Classified_Job_Titles.append('Data Architect')\n",
    "        elif job in development_jobs:\n",
    "            Classified_Job_Titles.append('Developer Job Using Data')\n",
    "        elif job in migration_jobs:\n",
    "            Classified_Job_Titles.append('Data Migration Job')\n",
    "        elif job in consultant_jobs:\n",
    "            Classified_Job_Titles.append('Consultant Involving Data')            \n",
    "        elif job in manager_jobs:\n",
    "            Classified_Job_Titles.append('Manager Involving Data') \n",
    "        elif job in scientist_jobs:\n",
    "            Classified_Job_Titles.append('Data Scientist')    \n",
    "        elif job in engineer_jobs:\n",
    "            Classified_Job_Titles.append('Data Engineer') \n",
    "        elif job in manager_jobs:\n",
    "            Classified_Job_Titles.append('Data Manager')\n",
    "        elif job in analyst_jobs:\n",
    "            Classified_Job_Titles.append('Data Analyst')\n",
    "        elif job in junior_analyst_jobs:\n",
    "            Classified_Job_Titles.append('Junior Data Analyst')           \n",
    "        elif job in senior_analyst_jobs:\n",
    "            Classified_Job_Titles.append('Senior Data Analyst')\n",
    "        else:\n",
    "            Classified_Job_Titles.append('No Title')\n",
    "\n",
    "Cdata['Job Title'] = Classified_Job_Titles"
   ]
  },
  {
   "cell_type": "code",
   "execution_count": 12,
   "metadata": {},
   "outputs": [
    {
     "data": {
      "text/plain": [
       "Data Analyst                 1573\n",
       "Developer Job Using Data       79\n",
       "Manager Involving Data         68\n",
       "Data Modelling Job             32\n",
       "Data Engineer                  31\n",
       "Data Administrator             14\n",
       "Consultant Involving Data       9\n",
       "Data Architect                  8\n",
       "Data Migration Job              2\n",
       "Data Scientist                  2\n",
       "Name: Job Title, dtype: int64"
      ]
     },
     "execution_count": 12,
     "metadata": {},
     "output_type": "execute_result"
    }
   ],
   "source": [
    "Cdata['Job Title'].value_counts()"
   ]
  },
  {
   "cell_type": "code",
   "execution_count": 13,
   "metadata": {},
   "outputs": [],
   "source": [
    "#i will drop with the rows with 'NO Title'\n",
    "Cdata = Cdata[Cdata['Job Title'] != 'No Title']"
   ]
  },
  {
   "cell_type": "code",
   "execution_count": 14,
   "metadata": {},
   "outputs": [],
   "source": [
    "Cdata['Title'] = Cdata['Job Title'] #Replace the Title with modified Title column "
   ]
  },
  {
   "cell_type": "code",
   "execution_count": 15,
   "metadata": {},
   "outputs": [
    {
     "data": {
      "text/html": [
       "<div>\n",
       "<style scoped>\n",
       "    .dataframe tbody tr th:only-of-type {\n",
       "        vertical-align: middle;\n",
       "    }\n",
       "\n",
       "    .dataframe tbody tr th {\n",
       "        vertical-align: top;\n",
       "    }\n",
       "\n",
       "    .dataframe thead th {\n",
       "        text-align: right;\n",
       "    }\n",
       "</style>\n",
       "<table border=\"1\" class=\"dataframe\">\n",
       "  <thead>\n",
       "    <tr style=\"text-align: right;\">\n",
       "      <th></th>\n",
       "      <th>Location</th>\n",
       "      <th>Title</th>\n",
       "      <th>ContractTime</th>\n",
       "      <th>Category</th>\n",
       "      <th>Salary</th>\n",
       "    </tr>\n",
       "  </thead>\n",
       "  <tbody>\n",
       "    <tr>\n",
       "      <td>56</td>\n",
       "      <td>London</td>\n",
       "      <td>Data Analyst</td>\n",
       "      <td>permanent</td>\n",
       "      <td>Accounting &amp; Finance Jobs</td>\n",
       "      <td>45000</td>\n",
       "    </tr>\n",
       "    <tr>\n",
       "      <td>57</td>\n",
       "      <td>Hampshire</td>\n",
       "      <td>Data Analyst</td>\n",
       "      <td>permanent</td>\n",
       "      <td>Accounting &amp; Finance Jobs</td>\n",
       "      <td>25500</td>\n",
       "    </tr>\n",
       "    <tr>\n",
       "      <td>70</td>\n",
       "      <td>Bradford</td>\n",
       "      <td>Data Analyst</td>\n",
       "      <td>permanent</td>\n",
       "      <td>IT Jobs</td>\n",
       "      <td>18500</td>\n",
       "    </tr>\n",
       "    <tr>\n",
       "      <td>86</td>\n",
       "      <td>Leicestershire</td>\n",
       "      <td>Data Analyst</td>\n",
       "      <td>permanent</td>\n",
       "      <td>PR, Advertising &amp; Marketing Jobs</td>\n",
       "      <td>24000</td>\n",
       "    </tr>\n",
       "    <tr>\n",
       "      <td>90</td>\n",
       "      <td>Dorset</td>\n",
       "      <td>Data Analyst</td>\n",
       "      <td>contract</td>\n",
       "      <td>IT Jobs</td>\n",
       "      <td>84000</td>\n",
       "    </tr>\n",
       "    <tr>\n",
       "      <td>...</td>\n",
       "      <td>...</td>\n",
       "      <td>...</td>\n",
       "      <td>...</td>\n",
       "      <td>...</td>\n",
       "      <td>...</td>\n",
       "    </tr>\n",
       "    <tr>\n",
       "      <td>29793</td>\n",
       "      <td>London</td>\n",
       "      <td>Data Analyst</td>\n",
       "      <td>permanent</td>\n",
       "      <td>Accounting &amp; Finance Jobs</td>\n",
       "      <td>48000</td>\n",
       "    </tr>\n",
       "    <tr>\n",
       "      <td>29808</td>\n",
       "      <td>London</td>\n",
       "      <td>Manager Involving Data</td>\n",
       "      <td>permanent</td>\n",
       "      <td>PR, Advertising &amp; Marketing Jobs</td>\n",
       "      <td>32500</td>\n",
       "    </tr>\n",
       "    <tr>\n",
       "      <td>29837</td>\n",
       "      <td>Avon</td>\n",
       "      <td>Data Analyst</td>\n",
       "      <td>permanent</td>\n",
       "      <td>Accounting &amp; Finance Jobs</td>\n",
       "      <td>33000</td>\n",
       "    </tr>\n",
       "    <tr>\n",
       "      <td>29838</td>\n",
       "      <td>Berkshire</td>\n",
       "      <td>Data Analyst</td>\n",
       "      <td>contract</td>\n",
       "      <td>Accounting &amp; Finance Jobs</td>\n",
       "      <td>39360</td>\n",
       "    </tr>\n",
       "    <tr>\n",
       "      <td>29845</td>\n",
       "      <td>West Midlands</td>\n",
       "      <td>Data Modelling Job</td>\n",
       "      <td>permanent</td>\n",
       "      <td>Accounting &amp; Finance Jobs</td>\n",
       "      <td>34000</td>\n",
       "    </tr>\n",
       "  </tbody>\n",
       "</table>\n",
       "<p>1818 rows × 5 columns</p>\n",
       "</div>"
      ],
      "text/plain": [
       "             Location                   Title ContractTime  \\\n",
       "56             London            Data Analyst    permanent   \n",
       "57          Hampshire            Data Analyst    permanent   \n",
       "70           Bradford            Data Analyst    permanent   \n",
       "86     Leicestershire            Data Analyst    permanent   \n",
       "90             Dorset            Data Analyst     contract   \n",
       "...               ...                     ...          ...   \n",
       "29793          London            Data Analyst    permanent   \n",
       "29808          London  Manager Involving Data    permanent   \n",
       "29837            Avon            Data Analyst    permanent   \n",
       "29838       Berkshire            Data Analyst     contract   \n",
       "29845   West Midlands      Data Modelling Job    permanent   \n",
       "\n",
       "                               Category Salary  \n",
       "56            Accounting & Finance Jobs  45000  \n",
       "57            Accounting & Finance Jobs  25500  \n",
       "70                              IT Jobs  18500  \n",
       "86     PR, Advertising & Marketing Jobs  24000  \n",
       "90                              IT Jobs  84000  \n",
       "...                                 ...    ...  \n",
       "29793         Accounting & Finance Jobs  48000  \n",
       "29808  PR, Advertising & Marketing Jobs  32500  \n",
       "29837         Accounting & Finance Jobs  33000  \n",
       "29838         Accounting & Finance Jobs  39360  \n",
       "29845         Accounting & Finance Jobs  34000  \n",
       "\n",
       "[1818 rows x 5 columns]"
      ]
     },
     "execution_count": 15,
     "metadata": {},
     "output_type": "execute_result"
    }
   ],
   "source": [
    "Cdata.drop(columns=['Job Title']) #Removes the the job title column which is not requied "
   ]
  },
  {
   "cell_type": "code",
   "execution_count": 17,
   "metadata": {},
   "outputs": [
    {
     "data": {
      "text/html": [
       "<div>\n",
       "<style scoped>\n",
       "    .dataframe tbody tr th:only-of-type {\n",
       "        vertical-align: middle;\n",
       "    }\n",
       "\n",
       "    .dataframe tbody tr th {\n",
       "        vertical-align: top;\n",
       "    }\n",
       "\n",
       "    .dataframe thead th {\n",
       "        text-align: right;\n",
       "    }\n",
       "</style>\n",
       "<table border=\"1\" class=\"dataframe\">\n",
       "  <thead>\n",
       "    <tr style=\"text-align: right;\">\n",
       "      <th></th>\n",
       "      <th>Location</th>\n",
       "      <th>Title</th>\n",
       "      <th>ContractTime</th>\n",
       "      <th>Category</th>\n",
       "      <th>Salary</th>\n",
       "      <th>Job Title</th>\n",
       "    </tr>\n",
       "  </thead>\n",
       "  <tbody>\n",
       "    <tr>\n",
       "      <td>56</td>\n",
       "      <td>London</td>\n",
       "      <td>Data Analyst</td>\n",
       "      <td>permanent</td>\n",
       "      <td>Accounting &amp; Finance Jobs</td>\n",
       "      <td>45000</td>\n",
       "      <td>Data Analyst</td>\n",
       "    </tr>\n",
       "    <tr>\n",
       "      <td>57</td>\n",
       "      <td>Hampshire</td>\n",
       "      <td>Data Analyst</td>\n",
       "      <td>permanent</td>\n",
       "      <td>Accounting &amp; Finance Jobs</td>\n",
       "      <td>25500</td>\n",
       "      <td>Data Analyst</td>\n",
       "    </tr>\n",
       "    <tr>\n",
       "      <td>70</td>\n",
       "      <td>Bradford</td>\n",
       "      <td>Data Analyst</td>\n",
       "      <td>permanent</td>\n",
       "      <td>IT Jobs</td>\n",
       "      <td>18500</td>\n",
       "      <td>Data Analyst</td>\n",
       "    </tr>\n",
       "    <tr>\n",
       "      <td>86</td>\n",
       "      <td>Leicestershire</td>\n",
       "      <td>Data Analyst</td>\n",
       "      <td>permanent</td>\n",
       "      <td>PR, Advertising &amp; Marketing Jobs</td>\n",
       "      <td>24000</td>\n",
       "      <td>Data Analyst</td>\n",
       "    </tr>\n",
       "    <tr>\n",
       "      <td>90</td>\n",
       "      <td>Dorset</td>\n",
       "      <td>Data Analyst</td>\n",
       "      <td>contract</td>\n",
       "      <td>IT Jobs</td>\n",
       "      <td>84000</td>\n",
       "      <td>Data Analyst</td>\n",
       "    </tr>\n",
       "    <tr>\n",
       "      <td>...</td>\n",
       "      <td>...</td>\n",
       "      <td>...</td>\n",
       "      <td>...</td>\n",
       "      <td>...</td>\n",
       "      <td>...</td>\n",
       "      <td>...</td>\n",
       "    </tr>\n",
       "    <tr>\n",
       "      <td>29793</td>\n",
       "      <td>London</td>\n",
       "      <td>Data Analyst</td>\n",
       "      <td>permanent</td>\n",
       "      <td>Accounting &amp; Finance Jobs</td>\n",
       "      <td>48000</td>\n",
       "      <td>Data Analyst</td>\n",
       "    </tr>\n",
       "    <tr>\n",
       "      <td>29808</td>\n",
       "      <td>London</td>\n",
       "      <td>Manager Involving Data</td>\n",
       "      <td>permanent</td>\n",
       "      <td>PR, Advertising &amp; Marketing Jobs</td>\n",
       "      <td>32500</td>\n",
       "      <td>Manager Involving Data</td>\n",
       "    </tr>\n",
       "    <tr>\n",
       "      <td>29837</td>\n",
       "      <td>Avon</td>\n",
       "      <td>Data Analyst</td>\n",
       "      <td>permanent</td>\n",
       "      <td>Accounting &amp; Finance Jobs</td>\n",
       "      <td>33000</td>\n",
       "      <td>Data Analyst</td>\n",
       "    </tr>\n",
       "    <tr>\n",
       "      <td>29838</td>\n",
       "      <td>Berkshire</td>\n",
       "      <td>Data Analyst</td>\n",
       "      <td>contract</td>\n",
       "      <td>Accounting &amp; Finance Jobs</td>\n",
       "      <td>39360</td>\n",
       "      <td>Data Analyst</td>\n",
       "    </tr>\n",
       "    <tr>\n",
       "      <td>29845</td>\n",
       "      <td>West Midlands</td>\n",
       "      <td>Data Modelling Job</td>\n",
       "      <td>permanent</td>\n",
       "      <td>Accounting &amp; Finance Jobs</td>\n",
       "      <td>34000</td>\n",
       "      <td>Data Modelling Job</td>\n",
       "    </tr>\n",
       "  </tbody>\n",
       "</table>\n",
       "<p>1740 rows × 6 columns</p>\n",
       "</div>"
      ],
      "text/plain": [
       "             Location                   Title ContractTime  \\\n",
       "56             London            Data Analyst    permanent   \n",
       "57          Hampshire            Data Analyst    permanent   \n",
       "70           Bradford            Data Analyst    permanent   \n",
       "86     Leicestershire            Data Analyst    permanent   \n",
       "90             Dorset            Data Analyst     contract   \n",
       "...               ...                     ...          ...   \n",
       "29793          London            Data Analyst    permanent   \n",
       "29808          London  Manager Involving Data    permanent   \n",
       "29837            Avon            Data Analyst    permanent   \n",
       "29838       Berkshire            Data Analyst     contract   \n",
       "29845   West Midlands      Data Modelling Job    permanent   \n",
       "\n",
       "                               Category Salary               Job Title  \n",
       "56            Accounting & Finance Jobs  45000            Data Analyst  \n",
       "57            Accounting & Finance Jobs  25500            Data Analyst  \n",
       "70                              IT Jobs  18500            Data Analyst  \n",
       "86     PR, Advertising & Marketing Jobs  24000            Data Analyst  \n",
       "90                              IT Jobs  84000            Data Analyst  \n",
       "...                                 ...    ...                     ...  \n",
       "29793         Accounting & Finance Jobs  48000            Data Analyst  \n",
       "29808  PR, Advertising & Marketing Jobs  32500  Manager Involving Data  \n",
       "29837         Accounting & Finance Jobs  33000            Data Analyst  \n",
       "29838         Accounting & Finance Jobs  39360            Data Analyst  \n",
       "29845         Accounting & Finance Jobs  34000      Data Modelling Job  \n",
       "\n",
       "[1740 rows x 6 columns]"
      ]
     },
     "execution_count": 17,
     "metadata": {},
     "output_type": "execute_result"
    }
   ],
   "source": [
    "Cdata.dropna(inplace=True)\n",
    "Cdata"
   ]
  },
  {
   "cell_type": "code",
   "execution_count": 18,
   "metadata": {},
   "outputs": [
    {
     "data": {
      "text/plain": [
       "35000            93\n",
       "45000            81\n",
       "40000            74\n",
       "30000            74\n",
       "42500            60\n",
       "                 ..\n",
       "47500 - 52500     1\n",
       "25920             1\n",
       "17340             1\n",
       "77000             1\n",
       "32300             1\n",
       "Name: Salary, Length: 264, dtype: int64"
      ]
     },
     "execution_count": 18,
     "metadata": {},
     "output_type": "execute_result"
    }
   ],
   "source": [
    "Cdata['Salary'].value_counts()"
   ]
  },
  {
   "cell_type": "markdown",
   "metadata": {},
   "source": [
    "# Cleaning Salary Column"
   ]
  },
  {
   "cell_type": "code",
   "execution_count": 19,
   "metadata": {},
   "outputs": [],
   "source": [
    "#create a new column of salary to work on\n",
    "Cdata['mod_Salary'] = Cdata['Salary']\n"
   ]
  },
  {
   "cell_type": "code",
   "execution_count": 20,
   "metadata": {},
   "outputs": [],
   "source": [
    "#WIll create a function which change blank space,'-',nan,'0' to Na. And as there are pa, per annum, /year which is not requried.\n",
    "#K is replaced with 000 and the average is taken where there are two numbers \n",
    "def pay_info(salary_info):\n",
    "    if salary_info == '':\n",
    "        return 'NA'\n",
    "    elif salary_info == ' ':\n",
    "        return 'NA'\n",
    "    elif salary_info == '-':\n",
    "        return 'NA'\n",
    "    elif salary_info=='nan':\n",
    "        return 'NA'\n",
    "    elif salary_info == '0':\n",
    "        return 'NA'\n",
    "    \n",
    "    elif 'pa' in salary_info.lower():\n",
    "        return salary_info.replace(' pa','')\n",
    "     \n",
    "    elif 'per annum' in salary_info.lower():\n",
    "        return salary_info.lower().replace(' per annum','')\n",
    "    \n",
    "    elif '/year' in salary_info.lower():\n",
    "        return salary_info.lower().replace('/year','')\n",
    "    \n",
    "    elif 'k' in salary_info.lower():\n",
    "        return salary_info.lower().replace('k','000')\n",
    "    \n",
    "    elif 'to' in salary_info.lower():\n",
    "        min= (int)(salary_info.lower().split('to')[0])\n",
    "        max =(int)(salary_info.lower().split('to')[1])\n",
    "        print(\"min: \", min, \" max: \", max)\n",
    "        return (str)(int((min+max)/2))\n",
    "    elif '-' in salary_info.lower():\n",
    "        min= (int)(salary_info.lower().split('-')[0])\n",
    "        max =(int)(salary_info.lower().split('-')[1])\n",
    "        print(\"min: \", min, \" max: \", max)\n",
    "        return (str)(int((min+max)/2))\n",
    "    \n",
    "    else:\n",
    "        return salary_info\n",
    "    \n",
    "    "
   ]
  },
  {
   "cell_type": "code",
   "execution_count": 21,
   "metadata": {},
   "outputs": [
    {
     "name": "stdout",
     "output_type": "stream",
     "text": [
      "min:  49750  max:  50250\n",
      "min:  47500  max:  52500\n",
      "min:  31000  max:  33000\n",
      "min:  29000  max:  31000\n",
      "min:  37000  max:  38000\n",
      "min:  27250  max:  27750\n",
      "min:  42500  max:  47500\n",
      "min:  30750  max:  31250\n",
      "min:  34000  max:  36000\n"
     ]
    }
   ],
   "source": [
    "# lets apply this above function to new salary column created \n",
    "Cdata['mod_Salary'] = Cdata['mod_Salary'].astype('str').apply(pay_info)"
   ]
  },
  {
   "cell_type": "code",
   "execution_count": 22,
   "metadata": {},
   "outputs": [],
   "source": [
    "#Replacing the modified salary column\n",
    "Cdata['Salary'] = Cdata['mod_Salary']"
   ]
  },
  {
   "cell_type": "code",
   "execution_count": 23,
   "metadata": {},
   "outputs": [],
   "source": [
    "# i will drop the unwanted Salary Column\n",
    "df=Cdata.drop(columns=['mod_Salary'])"
   ]
  },
  {
   "cell_type": "code",
   "execution_count": 24,
   "metadata": {},
   "outputs": [],
   "source": [
    "df.dropna(inplace=True)\n"
   ]
  },
  {
   "cell_type": "markdown",
   "metadata": {},
   "source": [
    "# Cleaning ContractTime Column"
   ]
  },
  {
   "cell_type": "code",
   "execution_count": 25,
   "metadata": {},
   "outputs": [
    {
     "data": {
      "text/plain": [
       "array(['permanent', 'contract', '-', ' '], dtype=object)"
      ]
     },
     "execution_count": 25,
     "metadata": {},
     "output_type": "execute_result"
    }
   ],
   "source": [
    "df.ContractTime.unique()"
   ]
  },
  {
   "cell_type": "code",
   "execution_count": 26,
   "metadata": {},
   "outputs": [],
   "source": [
    "# I will cosider the rows with nothing specified in the contract time as contract because they might be some freelance jobs\n",
    "df['ContractTime'] = df['ContractTime'].map(lambda x: 'Contract' if x != 'permanent' else x)"
   ]
  },
  {
   "cell_type": "code",
   "execution_count": 27,
   "metadata": {},
   "outputs": [
    {
     "data": {
      "text/plain": [
       "array(['permanent', 'Contract'], dtype=object)"
      ]
     },
     "execution_count": 27,
     "metadata": {},
     "output_type": "execute_result"
    }
   ],
   "source": [
    "df.ContractTime.unique()"
   ]
  },
  {
   "cell_type": "code",
   "execution_count": 28,
   "metadata": {},
   "outputs": [],
   "source": [
    "Mdata=df[['Title','ContractTime','Location','Category','Salary']]\n",
    "Mdata.to_csv(\"newtest.csv\",index=False) #Even if i  used dropna() the NA values are still present so i saved the file and tried to use R to remove NA values "
   ]
  },
  {
   "cell_type": "code",
   "execution_count": 29,
   "metadata": {},
   "outputs": [],
   "source": [
    "Mdata=pd.read_csv('newtest2.csv') # Now this data set has no NA values "
   ]
  },
  {
   "cell_type": "code",
   "execution_count": 30,
   "metadata": {},
   "outputs": [],
   "source": [
    "Mdata['Salary'] = Mdata['Salary'].astype(int) "
   ]
  },
  {
   "cell_type": "markdown",
   "metadata": {},
   "source": [
    "# Visualisation"
   ]
  },
  {
   "cell_type": "code",
   "execution_count": 31,
   "metadata": {},
   "outputs": [
    {
     "data": {
      "image/png": "[encoded data removed]",
      "text/plain": [
       "<Figure size 576x432 with 1 Axes>"
      ]
     },
     "metadata": {
      "needs_background": "light"
     },
     "output_type": "display_data"
    }
   ],
   "source": [
    "plt.figure(figsize=(8, 6))\n",
    "sns.distplot(Mdata['Salary'],kde=False,bins=14,color='r')\n",
    "plt.title(\"Salary Distribution\", fontsize=22)\n",
    "plt.ylabel('Frequency', fontsize=22)\n",
    "plt.xlabel('', fontsize=3)\n",
    "plt.yticks(fontsize=20)\n",
    "plt.xticks([5000,25000, 45000,65000,85000,105000],['5K', '25K','45k','66k','85k','105K'], fontsize=15)\n",
    "plt.show()\n"
   ]
  },
  {
   "cell_type": "code",
   "execution_count": 32,
   "metadata": {},
   "outputs": [
    {
     "data": {
      "image/png": "[encoded data removed]",
      "text/plain": [
       "<Figure size 1440x432 with 1 Axes>"
      ]
     },
     "metadata": {
      "needs_background": "light"
     },
     "output_type": "display_data"
    }
   ],
   "source": [
    "newyorkTimezone = Mdata['Category'].value_counts(normalize=True).head()*100\n",
    "plt.figure(figsize=(20, 6))\n",
    "sns.barplot(y = newyorkTimezone.index, x = newyorkTimezone.values, alpha=0.8)\n",
    "plt.title('Category', fontsize=20)\n",
    "plt.ylabel('', fontsize=10)\n",
    "plt.yticks(fontsize=20)\n",
    "plt.xlabel('Percentage of all results', fontsize=20)\n",
    "plt.xticks(fontsize=15)\n",
    "plt.show()"
   ]
  },
  {
   "cell_type": "code",
   "execution_count": 33,
   "metadata": {},
   "outputs": [
    {
     "data": {
      "image/png": "[encoded data removed]",
      "text/plain": [
       "<Figure size 720x216 with 1 Axes>"
      ]
     },
     "metadata": {
      "needs_background": "light"
     },
     "output_type": "display_data"
    }
   ],
   "source": [
    "newyorkTimezone = Mdata['ContractTime'].value_counts(normalize=True).head()*100\n",
    "plt.figure(figsize=(10, 3))\n",
    "sns.barplot(y = newyorkTimezone.index, x = newyorkTimezone.values, alpha=0.8)\n",
    "plt.title('ContractTime', fontsize=20)\n",
    "plt.ylabel('', fontsize=10)\n",
    "plt.yticks(fontsize=20)\n",
    "plt.xlabel('Percentage of all results', fontsize=20)\n",
    "plt.xticks(fontsize=15)\n",
    "plt.show()"
   ]
  },
  {
   "cell_type": "code",
   "execution_count": 34,
   "metadata": {},
   "outputs": [
    {
     "data": {
      "image/png": "[encoded data removed]",
      "text/plain": [
       "<Figure size 1440x432 with 1 Axes>"
      ]
     },
     "metadata": {
      "needs_background": "light"
     },
     "output_type": "display_data"
    }
   ],
   "source": [
    "newyorkTimezone = Mdata['Title'].value_counts(normalize=True)*100\n",
    "plt.figure(figsize=(20, 6))\n",
    "sns.barplot(y = newyorkTimezone.index, x = newyorkTimezone.values, alpha=0.8)\n",
    "plt.title('Title', fontsize=20)\n",
    "plt.ylabel('', fontsize=10)\n",
    "plt.yticks(fontsize=20)\n",
    "plt.xlabel('Percentage of all results', fontsize=20)\n",
    "plt.xticks(fontsize=15)\n",
    "plt.show()"
   ]
  },
  {
   "cell_type": "code",
   "execution_count": 35,
   "metadata": {},
   "outputs": [
    {
     "data": {
      "image/png": "[encoded data removed]",
      "text/plain": [
       "<Figure size 720x216 with 1 Axes>"
      ]
     },
     "metadata": {
      "needs_background": "light"
     },
     "output_type": "display_data"
    }
   ],
   "source": [
    "newyorkTimezone = Mdata['Location'].value_counts(normalize=True).head()*100\n",
    "plt.figure(figsize=(10, 3))\n",
    "sns.barplot(y = newyorkTimezone.index, x = newyorkTimezone.values, alpha=0.8)\n",
    "plt.title('Location', fontsize=20)\n",
    "plt.ylabel('', fontsize=10)\n",
    "plt.yticks(fontsize=20)\n",
    "plt.xlabel('Percentage of all results', fontsize=20)\n",
    "plt.xticks(fontsize=15)\n",
    "plt.show()\n"
   ]
  },
  {
   "cell_type": "code",
   "execution_count": 36,
   "metadata": {},
   "outputs": [
    {
     "data": {
      "image/png": "[encoded data removed]",
      "text/plain": [
       "<Figure size 576x576 with 1 Axes>"
      ]
     },
     "metadata": {
      "needs_background": "light"
     },
     "output_type": "display_data"
    }
   ],
   "source": [
    "# i will plot average salary vs different jobs\n",
    "newyorkTimezone = Mdata.groupby('Title')['Salary'].median().sort_values(ascending=False)\n",
    "plt.figure(figsize=(8, 8))\n",
    "sns.barplot(y=newyorkTimezone.index, x=newyorkTimezone.values, alpha=0.8)\n",
    "plt.title(\"Median Salary\", fontsize=22)\n",
    "plt.ylabel('', fontsize=20)\n",
    "plt.xlabel('', fontsize=20)\n",
    "plt.yticks(fontsize=15)\n",
    "plt.xticks([5000,25000, 45000,65000,85000,105000],['5K', '25K','45k','66k','85k','105K'], fontsize=15)\n",
    "plt.show()\n"
   ]
  },
  {
   "cell_type": "code",
   "execution_count": null,
   "metadata": {},
   "outputs": [],
   "source": []
  },
  {
   "cell_type": "code",
   "execution_count": null,
   "metadata": {},
   "outputs": [],
   "source": []
  },
  {
   "cell_type": "code",
   "execution_count": null,
   "metadata": {},
   "outputs": [],
   "source": []
  }
 ],
 "metadata": {
  "kernelspec": {
   "display_name": "Python 3",
   "language": "python",
   "name": "python3"
  },
  "language_info": {
   "codemirror_mode": {
    "name": "ipython",
    "version": 3
   },
   "file_extension": ".py",
   "mimetype": "text/x-python",
   "name": "python",
   "nbconvert_exporter": "python",
   "pygments_lexer": "ipython3",
   "version": "3.7.4"
  }
 },
 "nbformat": 4,
 "nbformat_minor": 2
}
